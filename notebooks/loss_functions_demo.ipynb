{
 "cells": [
  {
   "cell_type": "markdown",
   "metadata": {},
   "source": [
    "# Different types of loss functions\n",
    "\n",
    "1. Mean Squared Error (MSE)\n",
    "   - Used for regression tasks.\n",
    "   - Measures the average squared difference between predicted and actual values.\n",
    "   - Formula:\n",
    "     $MSE = \\frac{1}{n} \\sum\\ {i=1}^{n} (y_i - \\hat{y}_i)^2$\n",
    "2. Cross Entropy Loss\n",
    "   - Where $y_i$ is the actual value, $\\hat{y}_i$ is the predicted value, and $n$ is the number of samples.\n",
    "   - Used for classification tasks.\n",
    "   - Formula:\n",
    "     $Cross Entropy = -\\frac{1}{n} \\sum_{i=1}^{n} [y_i \\log(\\hat{y}_i) + (1 - y_i) \\log(1 - \\hat{y}_i)]$\n",
    "3. Hinge Loss\n",
    "   - Used for \"maximum-margin\" classification, primarily with Support Vector Machines (SVMs).\n",
    "   - Formula:\n",
    "     $Hinge Loss = \\sum_{i=1}^{n} \\max(0, 1 - y_i \\cdot \\hat{y}_i)$\n",
    "4. Binary Cross Entropy Loss\n",
    "   - Used for binary classification tasks.\n",
    "   - Formula:\n",
    "     $BCE = -\\frac{1}{n} \\sum_{i=1}^{n} [y_i \\log(\\hat{y}_i) + (1 - y_i) \\log(1 - \\hat{y}_i)]$\n",
    "5. Focal Loss\n",
    "   - Where $y_i$ is the actual binary label (0 or 1), $\\hat{y}_i$ is the predicted probability of the positive class, and $n$ is the number of samples.\n",
    "   - Used for addressing class imbalance in classification tasks.\n",
    "   - Formula:\n",
    "     $Focal Loss = -\\frac{1}{n} \\sum_{i=1}^{n} \\alpha (1 - \\hat{y}_i)^\\gamma y_i \\log(\\hat{y}_i)$\n",
    "   - Where $\\alpha$ is a balancing factor, and $\\gamma$ is a focusing parameter.\n",
    "6. L1 Loss (Mean Absolute Error - MAE)\n",
    "   - Used for regression tasks.\n",
    "   - Measures the average absolute difference between predicted and actual values.\n",
    "   - Formula:\n",
    "     $MAE = \\frac{1}{n} \\sum_{i=1}^{n} |y_i - \\hat{y}_i|$\n"
   ]
  },
  {
   "cell_type": "code",
   "execution_count": 11,
   "metadata": {},
   "outputs": [
    {
     "name": "stdout",
     "output_type": "stream",
     "text": [
      "Note: you may need to restart the kernel to use updated packages.\n"
     ]
    }
   ],
   "source": [
    "%pip install --quiet \\\n",
    "    --upgrade \\\n",
    "    pip \\\n",
    "    numpy \\\n",
    "    scikit-learn \\\n",
    "    matplotlib \\\n",
    "    pandas"
   ]
  },
  {
   "cell_type": "markdown",
   "metadata": {},
   "source": [
    "### Mean Squared Error (MSE)\n"
   ]
  },
  {
   "cell_type": "code",
   "execution_count": 12,
   "metadata": {},
   "outputs": [
    {
     "name": "stdout",
     "output_type": "stream",
     "text": [
      "Mean Squared Error: 0.375\n"
     ]
    }
   ],
   "source": [
    "import numpy as np\n",
    "from sklearn.metrics import mean_squared_error\n",
    "\n",
    "# True values (y) and Predicted values (ŷ)\n",
    "y_true = np.array([3.0, -0.5, 2.0, 7.0])\n",
    "y_pred = np.array([2.5, 0.0, 2.0, 8.0])\n",
    "\n",
    "# Calculate MSE\n",
    "mse = mean_squared_error(y_true, y_pred)\n",
    "print(\"Mean Squared Error:\", mse)\n"
   ]
  },
  {
   "cell_type": "markdown",
   "metadata": {},
   "source": [
    "### Cross-Entropy Loss – Classification\n"
   ]
  },
  {
   "cell_type": "code",
   "execution_count": 13,
   "metadata": {},
   "outputs": [
    {
     "name": "stdout",
     "output_type": "stream",
     "text": [
      "Cross-Entropy Loss: 0.49870307570903244\n"
     ]
    }
   ],
   "source": [
    "from sklearn.metrics import log_loss\n",
    "\n",
    "# True labels (one-hot encoded for multi-class)\n",
    "y_true = np.array([[1, 0, 0], [0, 1, 0], [0, 0, 1]])\n",
    "# Predicted probabilities (from softmax)\n",
    "y_pred = np.array([[0.7, 0.2, 0.1], [0.1, 0.8, 0.1], [0.3, 0.3, 0.4]])\n",
    "\n",
    "# Compute cross-entropy loss\n",
    "loss = log_loss(y_true, y_pred)\n",
    "print(\"Cross-Entropy Loss:\", loss)"
   ]
  },
  {
   "cell_type": "markdown",
   "metadata": {},
   "source": [
    "### Hinge Loss – SVM Classification\n"
   ]
  },
  {
   "cell_type": "code",
   "execution_count": 14,
   "metadata": {},
   "outputs": [
    {
     "name": "stdout",
     "output_type": "stream",
     "text": [
      "Hinge Loss: 0.25\n"
     ]
    }
   ],
   "source": [
    "from sklearn.metrics import hinge_loss\n",
    "\n",
    "# True labels (+1 or -1 for binary classification)\n",
    "y_true = np.array([1, -1, 1, -1])\n",
    "y_pred = np.array([0.8, -0.9, 0.6, -0.7])  # SVM decision scores\n",
    "\n",
    "# Compute hinge loss\n",
    "loss = hinge_loss(y_true, y_pred)\n",
    "print(\"Hinge Loss:\", loss)\n"
   ]
  },
  {
   "cell_type": "markdown",
   "metadata": {},
   "source": [
    "### Custom Implementation: Binary Cross-Entropy (Log Loss)\n"
   ]
  },
  {
   "cell_type": "code",
   "execution_count": 15,
   "metadata": {},
   "outputs": [
    {
     "name": "stdout",
     "output_type": "stream",
     "text": [
      "Binary Cross-Entropy Loss: 0.20273661557656092\n"
     ]
    }
   ],
   "source": [
    "def binary_cross_entropy(y_true, y_pred):\n",
    "    epsilon = 1e-15  # To prevent log(0)\n",
    "    y_pred = np.clip(y_pred, epsilon, 1 - epsilon)\n",
    "    return -np.mean(y_true * np.log(y_pred) + (1 - y_true) * np.log(1 - y_pred))\n",
    "\n",
    "# Example: Binary classification (Spam vs Not Spam)\n",
    "y_true = np.array([1, 0, 1, 1, 0])\n",
    "y_pred = np.array([0.9, 0.2, 0.8, 0.7, 0.1])\n",
    "\n",
    "# Compute loss\n",
    "loss = binary_cross_entropy(y_true, y_pred)\n",
    "print(\"Binary Cross-Entropy Loss:\", loss)\n"
   ]
  },
  {
   "cell_type": "markdown",
   "metadata": {},
   "source": [
    "### Focal Loss – Handling Imbalanced Classes\n"
   ]
  },
  {
   "cell_type": "code",
   "execution_count": 16,
   "metadata": {},
   "outputs": [
    {
     "name": "stdout",
     "output_type": "stream",
     "text": [
      "Focal Loss: 0.001995869441829329\n"
     ]
    }
   ],
   "source": [
    "def focal_loss(y_true, y_pred, gamma=2.0):\n",
    "    epsilon = 1e-15\n",
    "    y_pred = np.clip(y_pred, epsilon, 1 - epsilon)\n",
    "    return -np.mean((1 - y_pred) ** gamma * y_true * np.log(y_pred))\n",
    "\n",
    "# Example: Imbalanced dataset (Class 1 is rare)\n",
    "y_true = np.array([1, 0, 0, 0, 1])\n",
    "y_pred = np.array([0.9, 0.1, 0.05, 0.2, 0.8])\n",
    "\n",
    "# Compute focal loss\n",
    "loss = focal_loss(y_true, y_pred)\n",
    "print(\"Focal Loss:\", loss)\n"
   ]
  },
  {
   "cell_type": "markdown",
   "metadata": {},
   "source": [
    "### L1 Loss (Mean Absolute Error - MAE)\n"
   ]
  },
  {
   "cell_type": "code",
   "execution_count": 17,
   "metadata": {},
   "outputs": [
    {
     "name": "stdout",
     "output_type": "stream",
     "text": [
      "L1 Loss (MAE): 0.5\n"
     ]
    }
   ],
   "source": [
    "import numpy as np\n",
    "from sklearn.metrics import mean_absolute_error\n",
    "\n",
    "y_true = np.array([3.0, -0.5, 2.0, 7.0])\n",
    "y_pred = np.array([2.5, 0.0, 2.0, 8.0])\n",
    "\n",
    "# Compute L1 Loss (MAE)\n",
    "mae = mean_absolute_error(y_true, y_pred)\n",
    "print(\"L1 Loss (MAE):\", mae)\n"
   ]
  },
  {
   "cell_type": "code",
   "execution_count": null,
   "metadata": {},
   "outputs": [],
   "source": []
  }
 ],
 "metadata": {
  "kernelspec": {
   "display_name": "venv",
   "language": "python",
   "name": "python3"
  },
  "language_info": {
   "codemirror_mode": {
    "name": "ipython",
    "version": 3
   },
   "file_extension": ".py",
   "mimetype": "text/x-python",
   "name": "python",
   "nbconvert_exporter": "python",
   "pygments_lexer": "ipython3",
   "version": "3.13.2"
  }
 },
 "nbformat": 4,
 "nbformat_minor": 2
}
